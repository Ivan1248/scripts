{
 "cells": [
  {
   "cell_type": "code",
   "execution_count": 14,
   "id": "ef47eabf-a03e-4c64-8ddf-ad13617d7d75",
   "metadata": {},
   "outputs": [],
   "source": [
    "from ipywidgets import interact, widgets\n",
    "from IPython.display import display"
   ]
  },
  {
   "cell_type": "code",
   "execution_count": 15,
   "id": "9213963b-358d-49ca-a595-54f76068a637",
   "metadata": {},
   "outputs": [],
   "source": [
    "import pandas as pd\n",
    "from io import StringIO"
   ]
  },
  {
   "cell_type": "code",
   "execution_count": 16,
   "id": "336e0da3-b067-4830-8e22-7519e63bff4a",
   "metadata": {},
   "outputs": [],
   "source": [
    "input = \"\"\n",
    "output = \"\""
   ]
  },
  {
   "cell_type": "code",
   "execution_count": 17,
   "id": "417a233a-bb9f-454a-9b5d-c097d3de22b8",
   "metadata": {},
   "outputs": [],
   "source": [
    "def process_input(input):\n",
    "    return input"
   ]
  },
  {
   "cell_type": "code",
   "execution_count": 13,
   "id": "1ca2f865-3c43-457a-bdf5-a3948511a8b1",
   "metadata": {},
   "outputs": [
    {
     "data": {
      "application/vnd.jupyter.widget-view+json": {
       "model_id": "c3da47fd62ec4d85bd57b0d0551b0d1d",
       "version_major": 2,
       "version_minor": 0
      },
      "text/plain": [
       "Textarea(value='', description='Input:')"
      ]
     },
     "metadata": {},
     "output_type": "display_data"
    },
    {
     "data": {
      "application/vnd.jupyter.widget-view+json": {
       "model_id": "a55fdc70862c42ec876f50cc9e52f222",
       "version_major": 2,
       "version_minor": 0
      },
      "text/plain": [
       "Button(button_style='success', description='Submit', style=ButtonStyle())"
      ]
     },
     "metadata": {},
     "output_type": "display_data"
    },
    {
     "data": {
      "application/vnd.jupyter.widget-view+json": {
       "model_id": "9fe2780bc94e42418ca2b61a718605ec",
       "version_major": 2,
       "version_minor": 0
      },
      "text/plain": [
       "Textarea(value='', description='Output:')"
      ]
     },
     "metadata": {},
     "output_type": "display_data"
    }
   ],
   "source": [
    "input_textarea = widgets.Textarea(\n",
    "    value='',\n",
    "    description='Input:',\n",
    ")\n",
    "output_textarea = widgets.Textarea(\n",
    "    value='',\n",
    "    description='Output:',\n",
    ")\n",
    "submit_button = widgets.Button(description='Submit', button_style='success')\n",
    "def on_button_clicked(b):\n",
    "    global input\n",
    "    input = input_textarea.value\n",
    "    display(input)\n",
    "    try:\n",
    "        output_textarea.value = process_input(input)\n",
    "    except Exception as e:\n",
    "        output_textarea.value = str(e)\n",
    "\n",
    "display(input_textarea, submit_button, output_textarea)\n",
    "submit_button.on_click(on_button_clicked)"
   ]
  },
  {
   "cell_type": "code",
   "execution_count": 60,
   "id": "414744f6-2646-440e-89dd-bc118f9d66e4",
   "metadata": {},
   "outputs": [
    {
     "data": {
      "text/plain": [
       "'asaaaa'"
      ]
     },
     "metadata": {},
     "output_type": "display_data"
    }
   ],
   "source": [
    "display(output_textarea.value)"
   ]
  },
  {
   "cell_type": "code",
   "execution_count": 32,
   "id": "12bd5a23-ef71-4943-9795-644ed0834db9",
   "metadata": {},
   "outputs": [
    {
     "data": {
      "text/plain": [
       "'adssad'"
      ]
     },
     "execution_count": 32,
     "metadata": {},
     "output_type": "execute_result"
    }
   ],
   "source": [
    "textarea.value"
   ]
  }
 ],
 "metadata": {
  "kernelspec": {
   "display_name": "Python 3 (ipykernel)",
   "language": "python",
   "name": "python3"
  },
  "language_info": {
   "codemirror_mode": {
    "name": "ipython",
    "version": 3
   },
   "file_extension": ".py",
   "mimetype": "text/x-python",
   "name": "python",
   "nbconvert_exporter": "python",
   "pygments_lexer": "ipython3",
   "version": "3.11.7"
  }
 },
 "nbformat": 4,
 "nbformat_minor": 5
}
