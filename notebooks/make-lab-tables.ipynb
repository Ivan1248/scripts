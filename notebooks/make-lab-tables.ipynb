{
 "cells": [
  {
   "cell_type": "markdown",
   "id": "18ba62db",
   "metadata": {},
   "source": [
    "# Lab-table maker\n",
    "\n",
    "This notebook has been superseeded by the program Lab-table maker (lab_table_maker.py). It is left as an example for using iPyWidgets (Jupyter Widgets). The \"Copy\" button does not work."
   ]
  },
  {
   "cell_type": "code",
   "execution_count": 4,
   "id": "ef47eabf-a03e-4c64-8ddf-ad13617d7d75",
   "metadata": {},
   "outputs": [],
   "source": [
    "from io import StringIO\n",
    "import json\n",
    "from collections import defaultdict\n",
    "\n",
    "from IPython.display import display, Markdown, Javascript, HTML\n",
    "from ipywidgets import interact, widgets\n",
    "import pandas as pd"
   ]
  },
  {
   "cell_type": "code",
   "execution_count": 2,
   "id": "417a233a-bb9f-454a-9b5d-c097d3de22b8",
   "metadata": {},
   "outputs": [],
   "source": [
    "group_header = \"Grupa\"\n",
    "\n",
    "\n",
    "def read_table(input: str):\n",
    "    converters = {\n",
    "        group_header: str,\n",
    "        \"ID\": str,\n",
    "        \"JMBAG\": str,\n",
    "        \"Prezime\": str,\n",
    "        \"Ime\": str,\n",
    "    }\n",
    "    df = pd.read_csv(\n",
    "        StringIO(input),\n",
    "        sep=\"\\t\",\n",
    "        header=None,\n",
    "        names=converters.keys(),\n",
    "        converters=converters,\n",
    "        index_col=False,\n",
    "    )\n",
    "    return df\n",
    "\n",
    "def split_groups(df):\n",
    "    room_to_groups = defaultdict(lambda: [])\n",
    "    for group, d in df.groupby(group_header):\n",
    "        room = group.split(\" \")[-1]\n",
    "        room_to_groups[room].append((group, d.drop(columns=[group_header])))\n",
    "    return room_to_groups\n",
    "\n",
    "\n",
    "def process_input(input: str):\n",
    "    df = read_table(input)\n",
    "    df[\"Bodovi\"] = \"\"\n",
    "    df[\"Komentar\"] = \" \" * 64\n",
    "    df.set_index('ID', inplace=True)\n",
    "    df = df.rename_axis(None)\n",
    "    room_to_groups = split_groups(df)\n",
    "    output_parts = [\"\"\"\n",
    "                    <html>\n",
    "                    <style>\n",
    "                    @media all { .page-break { display: none; } }\n",
    "                    @media print { .page-break { display: block; page-break-before: always; } }\n",
    "                    table, td, th {\n",
    "                        border: 0.05rem solid #000;\n",
    "                        border-collapse: collapse;\n",
    "                        padding: 0.25rem;\n",
    "                    }\n",
    "                    </style>\n",
    "                    <body>\"\"\"]\n",
    "    for room, groups in room_to_groups.items():\n",
    "        output_parts.append(\n",
    "            '<div class=\"page-break\"></div>'\n",
    "            + f\"\\n\\n<h2> {room} </h2>\"\n",
    "        )\n",
    "        for group, df in groups:\n",
    "            dfs = df.style.set_properties(**{'text-align': 'left'})\n",
    "            dfs = dfs.set_table_styles([dict(selector='th', props=[('text-align', 'left')])])\n",
    "            dfs.set_properties(subset=['Komentar'], **{'width': '24em'})\n",
    "            output_parts.append(\n",
    "                '<div class=\"page-break\"></div>'\n",
    "                + f\"\\n\\n<h3> {group} </h3>\"\n",
    "                + dfs.to_html()\n",
    "            )\n",
    "    output_parts.append(\"\\n</body>\\n</html>\")\n",
    "    return \"\\n\".join(output_parts)"
   ]
  },
  {
   "cell_type": "code",
   "execution_count": 3,
   "id": "2af49c88",
   "metadata": {},
   "outputs": [
    {
     "data": {
      "application/vnd.jupyter.widget-view+json": {
       "model_id": "e4f68aa03efb4b25be899e9cbf112a5f",
       "version_major": 2,
       "version_minor": 0
      },
      "text/plain": [
       "Textarea(value='', description='Input:', layout=Layout(height='200px', width='auto'))"
      ]
     },
     "metadata": {},
     "output_type": "display_data"
    },
    {
     "data": {
      "application/vnd.jupyter.widget-view+json": {
       "model_id": "5402a8cf61b74162b8433cb93108b3e2",
       "version_major": 2,
       "version_minor": 0
      },
      "text/plain": [
       "Button(button_style='success', description='Submit', icon='run', style=ButtonStyle())"
      ]
     },
     "metadata": {},
     "output_type": "display_data"
    },
    {
     "data": {
      "application/vnd.jupyter.widget-view+json": {
       "model_id": "a5e41d555fe243e2b938f37c2f0e2922",
       "version_major": 2,
       "version_minor": 0
      },
      "text/plain": [
       "Textarea(value='', description='Output:', layout=Layout(height='200px', width='auto'))"
      ]
     },
     "metadata": {},
     "output_type": "display_data"
    },
    {
     "data": {
      "application/vnd.jupyter.widget-view+json": {
       "model_id": "2b34cca14c3345cc8dc3ecf9c4ce7b69",
       "version_major": 2,
       "version_minor": 0
      },
      "text/plain": [
       "Button(button_style='success', description='Copy', icon='copy', style=ButtonStyle())"
      ]
     },
     "metadata": {},
     "output_type": "display_data"
    }
   ],
   "source": [
    "input_textarea = widgets.Textarea(\n",
    "    value=\"\",\n",
    "    description=\"Input:\",\n",
    "    layout=widgets.Layout(height=\"200px\", width=\"auto\"),\n",
    ")\n",
    "output_textarea = widgets.Textarea(\n",
    "    value=\"\",\n",
    "    description=\"Output:\",\n",
    "    layout=widgets.Layout(height=\"200px\", width=\"auto\"),\n",
    ")\n",
    "submit_button = widgets.Button(description=\"Submit\", icon=\"run\", button_style=\"success\")\n",
    "copy_button = widgets.Button(description=\"Copy\", icon=\"copy\", button_style=\"success\")\n",
    "\n",
    "\n",
    "def on_submit_button_clicked(b):\n",
    "    try:\n",
    "        output_textarea.value = process_input(input_textarea.value)\n",
    "        display(Markdown(output_textarea.value))\n",
    "    except Exception as e:\n",
    "        output_textarea.value = str(e)\n",
    "\n",
    "\n",
    "def on_copy_button_clicked(b):\n",
    "    try:\n",
    "        output = widgets.Output(layout=widgets.Layout(display=\"none\"))\n",
    "        copy_js = Javascript(\n",
    "            f\"navigator.clipboard.writeText({json.dumps(output_textarea.value)})\"\n",
    "        )\n",
    "        output.clear_output()\n",
    "        output.append_display_data(copy_js)\n",
    "    except Exception as e:\n",
    "        output_textarea.value = str(e)\n",
    "\n",
    "display(input_textarea, submit_button, output_textarea, copy_button)\n",
    "submit_button.on_click(on_submit_button_clicked)\n",
    "copy_button.on_click(on_copy_button_clicked)    "
   ]
  },
  {
   "cell_type": "code",
   "execution_count": null,
   "id": "12bd5a23-ef71-4943-9795-644ed0834db9",
   "metadata": {},
   "outputs": [],
   "source": []
  }
 ],
 "metadata": {
  "kernelspec": {
   "display_name": "Python 3 (ipykernel)",
   "language": "python",
   "name": "python3"
  },
  "language_info": {
   "codemirror_mode": {
    "name": "ipython",
    "version": 3
   },
   "file_extension": ".py",
   "mimetype": "text/x-python",
   "name": "python",
   "nbconvert_exporter": "python",
   "pygments_lexer": "ipython3",
   "version": "3.11.7"
  }
 },
 "nbformat": 4,
 "nbformat_minor": 5
}
